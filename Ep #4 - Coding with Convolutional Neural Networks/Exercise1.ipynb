{
  "nbformat": 4,
  "nbformat_minor": 0,
  "metadata": {
    "kernelspec": {
      "display_name": "Python 3",
      "language": "python",
      "name": "python3"
    },
    "language_info": {
      "codemirror_mode": {
        "name": "ipython",
        "version": 3
      },
      "file_extension": ".py",
      "mimetype": "text/x-python",
      "name": "python",
      "nbconvert_exporter": "python",
      "pygments_lexer": "ipython3",
      "version": "3.6.9"
    },
    "colab": {
      "name": "Exercise1.ipynb",
      "provenance": [],
      "collapsed_sections": []
    },
    "accelerator": "GPU"
  },
  "cells": [
    {
      "cell_type": "markdown",
      "metadata": {
        "id": "P0IFAKr5F4Po"
      },
      "source": [
        "# Imports"
      ]
    },
    {
      "cell_type": "code",
      "metadata": {
        "id": "V6nY8xzYF4Pt"
      },
      "source": [
        "import torch\n",
        "import torch.nn as nn\n",
        "import torch.optim as optim\n",
        "import torchvision.datasets as datasets\n",
        "import torch.utils.data as data\n",
        "import torchvision.transforms as transforms"
      ],
      "execution_count": 1,
      "outputs": []
    },
    {
      "cell_type": "markdown",
      "metadata": {
        "id": "MOWMBimeF4QA"
      },
      "source": [
        "# Constants definition"
      ]
    },
    {
      "cell_type": "code",
      "metadata": {
        "id": "3-x90vQuF4QD"
      },
      "source": [
        "EPOCHS = 20\n",
        "IMAGE_SIZE = 28\n",
        "# Keras's default learning rate is 1e-3\n",
        "LEARNING_RATE = 1e-3\n",
        "# Keras's default batch size is 32\n",
        "BATCH_SIZE = 32\n",
        "NUM_WORKERS = 4"
      ],
      "execution_count": 2,
      "outputs": []
    },
    {
      "cell_type": "code",
      "metadata": {
        "id": "VIywda0ZF4QT",
        "outputId": "ab6b2826-fdd1-4db0-ef0d-ee66883dceb0",
        "colab": {
          "base_uri": "https://localhost:8080/"
        }
      },
      "source": [
        "# use GPU\n",
        "DEVICE = torch.device('cuda' if torch.cuda.is_available() else 'cpu')\n",
        "DEVICE"
      ],
      "execution_count": 3,
      "outputs": [
        {
          "output_type": "execute_result",
          "data": {
            "text/plain": [
              "device(type='cuda')"
            ]
          },
          "metadata": {
            "tags": []
          },
          "execution_count": 3
        }
      ]
    },
    {
      "cell_type": "markdown",
      "metadata": {
        "id": "TQpBsQ6uF4Qj"
      },
      "source": [
        "# Define functions"
      ]
    },
    {
      "cell_type": "code",
      "metadata": {
        "id": "HPgwzfw8F4Ql"
      },
      "source": [
        "def fit(model, optimizer, loss_fn, train_data, device=torch.device('cpu'), epochs=5):\n",
        "    for epoch in range(EPOCHS):\n",
        "        print(f'Epoch {epoch+1}/{EPOCHS}')\n",
        "        loss_sum = 0\n",
        "        correct = 0\n",
        "        total = 0\n",
        "        for images, labels in train_loader:\n",
        "            images, labels = images.to(DEVICE), labels.to(DEVICE)\n",
        "            optimizer.zero_grad()\n",
        "            out = model(images)\n",
        "            loss = loss_fn(out, labels)\n",
        "            loss.backward()\n",
        "            optimizer.step()\n",
        "\n",
        "            _, predicted = torch.max(out.data, 1)            \n",
        "            total += images.size(0)\n",
        "            correct += (predicted == labels).sum().item()\n",
        "            loss_sum += loss.item()\n",
        "            \n",
        "        acc = correct / total\n",
        "        print(f'loss: {loss_sum / len(train_loader):e} - acc: {acc}')\n",
        "        \n",
        "        if acc > 0.998:\n",
        "            print('Reached 99.8% accuracy so cancelling training!')\n",
        "            break"
      ],
      "execution_count": 4,
      "outputs": []
    },
    {
      "cell_type": "code",
      "metadata": {
        "id": "9mASkAWzF4Qv"
      },
      "source": [
        "def evaluate(model, test_data, device=torch.device('cpu')):\n",
        "    correct = 0\n",
        "    total = 0\n",
        "    with torch.no_grad():\n",
        "        for images, labels in test_data:\n",
        "            out = model(images.to(device))\n",
        "            _, predicted = torch.max(out.data, 1)\n",
        "            total += images.size(0)\n",
        "            correct += (predicted == labels.to(device)).sum().item()\n",
        "    print(f'Test accuracy: {100 * correct / total}%')"
      ],
      "execution_count": 5,
      "outputs": []
    },
    {
      "cell_type": "markdown",
      "metadata": {
        "id": "E2qZeroQF4Q3"
      },
      "source": [
        "# Providing the data"
      ]
    },
    {
      "cell_type": "code",
      "metadata": {
        "id": "XFDLMajbF4Q4"
      },
      "source": [
        "transform = transforms.ToTensor()\n",
        "train_dataset = datasets.MNIST('../data/fashionMNIST', train=True, download=True, transform=transform)\n",
        "test_dataset = datasets.MNIST('../data/fashionMNIST', train=False, transform=transform)\n",
        "\n",
        "train_loader = torch.utils.data.DataLoader(train_dataset, shuffle=True, batch_size=BATCH_SIZE, num_workers=NUM_WORKERS)\n",
        "test_loader = torch.utils.data.DataLoader(test_dataset, shuffle=False, batch_size=BATCH_SIZE, num_workers=NUM_WORKERS)"
      ],
      "execution_count": 6,
      "outputs": []
    },
    {
      "cell_type": "markdown",
      "metadata": {
        "id": "8WOm0VJKF4Q_"
      },
      "source": [
        "# Fit and Evaluate the Neural Network"
      ]
    },
    {
      "cell_type": "code",
      "metadata": {
        "id": "pNm8nzUoF4RA",
        "outputId": "547cc6a0-7fe6-4fa3-9108-fc59a6445996",
        "colab": {
          "base_uri": "https://localhost:8080/"
        }
      },
      "source": [
        "model = nn.Sequential(\n",
        "    nn.Conv2d(1, 32, (3,3)),\n",
        "    nn.ReLU(),\n",
        "    nn.MaxPool2d((2,2)),\n",
        "    nn.Flatten(),\n",
        "    nn.Linear(13 * 13 * 32, 128),\n",
        "    nn.ReLU(),\n",
        "    nn.Linear(128, 10)\n",
        ").to(DEVICE)\n",
        "\n",
        "print(model)\n",
        "\n",
        "optimizer = optim.Adam(model.parameters(), lr=LEARNING_RATE)\n",
        "loss_fn = nn.CrossEntropyLoss()\n",
        "\n",
        "fit(model, optimizer, loss_fn, train_loader, device=DEVICE, epochs=EPOCHS)\n",
        "evaluate(model, test_loader, device=DEVICE)"
      ],
      "execution_count": 7,
      "outputs": [
        {
          "output_type": "stream",
          "text": [
            "Sequential(\n",
            "  (0): Conv2d(1, 32, kernel_size=(3, 3), stride=(1, 1))\n",
            "  (1): ReLU()\n",
            "  (2): MaxPool2d(kernel_size=(2, 2), stride=(2, 2), padding=0, dilation=1, ceil_mode=False)\n",
            "  (3): Flatten(start_dim=1, end_dim=-1)\n",
            "  (4): Linear(in_features=5408, out_features=128, bias=True)\n",
            "  (5): ReLU()\n",
            "  (6): Linear(in_features=128, out_features=10, bias=True)\n",
            ")\n",
            "Epoch 1/20\n",
            "loss: 1.828207e-01 - acc: 0.9454833333333333\n",
            "Epoch 2/20\n",
            "loss: 6.040317e-02 - acc: 0.9817166666666667\n",
            "Epoch 3/20\n",
            "loss: 3.865861e-02 - acc: 0.98815\n",
            "Epoch 4/20\n",
            "loss: 2.683064e-02 - acc: 0.9912833333333333\n",
            "Epoch 5/20\n",
            "loss: 1.846186e-02 - acc: 0.9938166666666667\n",
            "Epoch 6/20\n",
            "loss: 1.377801e-02 - acc: 0.9956333333333334\n",
            "Epoch 7/20\n",
            "loss: 8.374845e-03 - acc: 0.9974\n",
            "Epoch 8/20\n",
            "loss: 7.224003e-03 - acc: 0.9978333333333333\n",
            "Epoch 9/20\n",
            "loss: 5.792481e-03 - acc: 0.99825\n",
            "Reached 99.8% accuracy so cancelling training!\n",
            "Test accuracy: 98.52%\n"
          ],
          "name": "stdout"
        }
      ]
    },
    {
      "cell_type": "markdown",
      "metadata": {
        "id": "hQWFDSoHF4RG"
      },
      "source": [
        "# Visualizing the Convolutions and Pooling"
      ]
    },
    {
      "cell_type": "code",
      "metadata": {
        "scrolled": true,
        "id": "ydXm72w_F4RG",
        "outputId": "308ef1c5-d51c-458d-ab23-a91b1851b46b",
        "colab": {
          "base_uri": "https://localhost:8080/"
        }
      },
      "source": [
        "print(test_dataset.targets[:100])"
      ],
      "execution_count": 8,
      "outputs": [
        {
          "output_type": "stream",
          "text": [
            "tensor([7, 2, 1, 0, 4, 1, 4, 9, 5, 9, 0, 6, 9, 0, 1, 5, 9, 7, 3, 4, 9, 6, 6, 5,\n",
            "        4, 0, 7, 4, 0, 1, 3, 1, 3, 4, 7, 2, 7, 1, 2, 1, 1, 7, 4, 2, 3, 5, 1, 2,\n",
            "        4, 4, 6, 3, 5, 5, 6, 0, 4, 1, 9, 5, 7, 8, 9, 3, 7, 4, 6, 4, 3, 0, 7, 0,\n",
            "        2, 9, 1, 7, 3, 2, 9, 7, 7, 6, 2, 7, 8, 4, 7, 3, 6, 1, 3, 6, 9, 3, 1, 4,\n",
            "        1, 7, 6, 9])\n"
          ],
          "name": "stdout"
        }
      ]
    },
    {
      "cell_type": "code",
      "metadata": {
        "id": "qY9JDbX2F4RL",
        "outputId": "ca8d61b8-aea5-4695-f49c-e4d532524a08",
        "colab": {
          "base_uri": "https://localhost:8080/",
          "height": 268
        }
      },
      "source": [
        "import matplotlib.pyplot as plt\n",
        "\n",
        "def get_forward_hook(ax, x, y, cn):\n",
        "    def hook(model, input, output):\n",
        "        ax[x,y].imshow(output.detach().cpu()[0, cn, : , :], cmap='inferno')\n",
        "        ax[x,y].grid(False)\n",
        "    return hook\n",
        "\n",
        "f, axarr = plt.subplots(3,2)\n",
        "FIRST_IMAGE=2\n",
        "SECOND_IMAGE=5\n",
        "THIRD_IMAGE=14\n",
        "CONVOLUTION_NUMBER = 1\n",
        "with torch.no_grad():\n",
        "    for i, x in enumerate([1, 2]):\n",
        "        handle = model[x].register_forward_hook(get_forward_hook(axarr, 0, i, CONVOLUTION_NUMBER))\n",
        "        model(test_dataset[FIRST_IMAGE][0].reshape(1, 1, 28, 28).to(DEVICE))\n",
        "        handle.remove()\n",
        "        \n",
        "        handle = model[x].register_forward_hook(get_forward_hook(axarr, 1, i, CONVOLUTION_NUMBER))\n",
        "        model(test_dataset[SECOND_IMAGE][0].reshape(1, 1, 28, 28).to(DEVICE))\n",
        "        handle.remove()\n",
        "        \n",
        "        handle = model[x].register_forward_hook(get_forward_hook(axarr, 2, i, CONVOLUTION_NUMBER))\n",
        "        model(test_dataset[THIRD_IMAGE][0].reshape(1, 1, 28, 28).to(DEVICE))\n",
        "        handle.remove()"
      ],
      "execution_count": 9,
      "outputs": [
        {
          "output_type": "display_data",
          "data": {
            "image/png": "[encoded data removed]",
            "text/plain": [
              "<Figure size 432x288 with 6 Axes>"
            ]
          },
          "metadata": {
            "tags": [],
            "needs_background": "light"
          }
        }
      ]
    }
  ]
}